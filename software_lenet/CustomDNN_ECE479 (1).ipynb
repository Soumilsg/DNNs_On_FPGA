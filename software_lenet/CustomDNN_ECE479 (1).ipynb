{
  "cells": [
    {
      "cell_type": "code",
      "execution_count": null,
      "metadata": {
        "colab": {
          "base_uri": "https://localhost:8080/"
        },
        "id": "KI44C3CFd19C",
        "outputId": "89b79c3f-7437-4e87-af0c-247bc9d74ba4"
      },
      "outputs": [
        {
          "name": "stdout",
          "output_type": "stream",
          "text": [
            "/kaggle/input/gtsrb-german-traffic-sign\n"
          ]
        }
      ],
      "source": [
        "import kagglehub\n",
        "gtsrb_path = kagglehub.dataset_download('meowmeowmeowmeowmeow/gtsrb-german-traffic-sign')\n",
        "print(gtsrb_path)\n"
      ]
    },
    {
      "cell_type": "code",
      "execution_count": 3,
      "metadata": {
        "id": "TprslHZJd19Z"
      },
      "outputs": [],
      "source": [
        "# Fundamental classes\n",
        "import numpy as np\n",
        "import pandas as pd\n",
        "import tensorflow as tf\n",
        "import os\n",
        "\n",
        "from sklearn.model_selection import train_test_split\n",
        "from tensorflow.keras.utils import to_categorical\n",
        "from tensorflow.keras.models import Sequential, load_model\n",
        "from tensorflow import keras\n",
        "from keras import layers\n",
        "\n",
        "import cv2\n",
        "from PIL import Image\n",
        "import matplotlib.pyplot as plt\n",
        "%matplotlib inline\n",
        "\n",
        "import time\n",
        "import datetime\n",
        "\n",
        "from tqdm import tqdm"
      ]
    },
    {
      "cell_type": "code",
      "execution_count": 4,
      "metadata": {
        "id": "6Y0kcopAd19l"
      },
      "outputs": [],
      "source": [
        "data = []\n",
        "labels = []\n",
        "classes = 43\n",
        "cur_path = os.getcwd()\n",
        "for i in (range(classes)):\n",
        "    path = os.path.join(r'D:\\Soumil479\\DNNs_On_FPGA\\software_lenet\\1','Train',str(i))\n",
        "    images = os.listdir(path)\n",
        "\n",
        "    for a in images:\n",
        "        try:\n",
        "            image = Image.open(path + '/'+ a)\n",
        "            image = image.resize((32,32))\n",
        "            image = np.array(image)\n",
        "            data.append(image)\n",
        "            labels.append(i)\n",
        "        except:\n",
        "            print(\"Error loading image\")\n",
        "\n",
        "data = np.array(data)\n",
        "labels = np.array(labels)"
      ]
    },
    {
      "cell_type": "code",
      "execution_count": 6,
      "metadata": {
        "colab": {
          "base_uri": "https://localhost:8080/"
        },
        "id": "NeItYQKjd19o",
        "outputId": "2f781b0a-371a-4348-f959-f7339f20fd41"
      },
      "outputs": [
        {
          "name": "stdout",
          "output_type": "stream",
          "text": [
            "(39209, 32, 32, 3) (39209,)\n",
            "(31367, 32, 32, 3) (7842, 32, 32, 3) (31367,) (7842,)\n"
          ]
        }
      ],
      "source": [
        "data = data.astype('float32') / 255.0\n",
        "print(data.shape, labels.shape)\n",
        "\n",
        "X_train, X_test, y_train, y_test = train_test_split(data, labels, test_size=0.2, random_state=42)\n",
        "\n",
        "print(X_train.shape, X_test.shape, y_train.shape, y_test.shape)\n",
        "\n",
        "y_train = to_categorical(y_train, 43)\n",
        "y_test = to_categorical(y_test, 43)"
      ]
    },
    {
      "cell_type": "code",
      "execution_count": 7,
      "metadata": {
        "colab": {
          "base_uri": "https://localhost:8080/",
          "height": 367
        },
        "id": "qOJW8An4d19s",
        "outputId": "3e412374-e634-4527-9a7d-ca50cc450a7b"
      },
      "outputs": [
        {
          "name": "stdout",
          "output_type": "stream",
          "text": [
            "Model: \"sequential\"\n",
            "_________________________________________________________________\n",
            " Layer (type)                Output Shape              Param #   \n",
            "=================================================================\n",
            " CONV1 (Conv2D)              (None, 28, 28, 32)        2432      \n",
            "                                                                 \n",
            " POOLING1 (MaxPooling2D)     (None, 14, 14, 32)        0         \n",
            "                                                                 \n",
            " CONV2 (Conv2D)              (None, 10, 10, 32)        25632     \n",
            "                                                                 \n",
            " POOLING2 (MaxPooling2D)     (None, 5, 5, 32)          0         \n",
            "                                                                 \n",
            " flatten (Flatten)           (None, 800)               0         \n",
            "                                                                 \n",
            " FULLY1 (Dense)              (None, 64)                51264     \n",
            "                                                                 \n",
            " FULLY2 (Dense)              (None, 43)                2795      \n",
            "                                                                 \n",
            "=================================================================\n",
            "Total params: 82,123\n",
            "Trainable params: 82,123\n",
            "Non-trainable params: 0\n",
            "_________________________________________________________________\n"
          ]
        }
      ],
      "source": [
        "model = Sequential([\n",
        "    keras.Input(shape=(32, 32, 3)),\n",
        "    layers.Conv2D(filters=32, kernel_size=(5, 5), strides=(1, 1), padding='valid', activation='relu', name=\"CONV1\"),\n",
        "    layers.MaxPooling2D(pool_size=(2, 2), strides=(2, 2), name=\"POOLING1\"),\n",
        "    layers.Conv2D(filters=32, kernel_size=(5, 5), strides=(1, 1), padding='valid', activation='relu', name=\"CONV2\"),\n",
        "    layers.MaxPooling2D(pool_size=(2, 2), strides=(2, 2), name=\"POOLING2\"),\n",
        "    layers.Flatten(),\n",
        "    layers.Dense(64, activation='relu', name=\"FULLY1\"),\n",
        "    layers.Dense(43, activation='softmax', name=\"FULLY2\"),\n",
        "])\n",
        "\n",
        "model.compile(loss='categorical_crossentropy', optimizer='adam', metrics=['accuracy'])\n",
        "model.weights\n",
        "model.summary()"
      ]
    },
    {
      "cell_type": "markdown",
      "metadata": {
        "id": "LnEXPSHod19u"
      },
      "source": [
        "# 6. Training the Model"
      ]
    },
    {
      "cell_type": "code",
      "execution_count": 8,
      "metadata": {
        "colab": {
          "base_uri": "https://localhost:8080/"
        },
        "id": "R5cfh3ftd19v",
        "outputId": "9f8b12d2-5485-4604-aaa5-13eb5ad076d9"
      },
      "outputs": [
        {
          "name": "stdout",
          "output_type": "stream",
          "text": [
            "Epoch 1/30\n",
            "246/246 [==============================] - 8s 30ms/step - loss: 2.1157 - accuracy: 0.4666 - val_loss: 0.8576 - val_accuracy: 0.7601\n",
            "Epoch 2/30\n",
            "246/246 [==============================] - 7s 28ms/step - loss: 0.5241 - accuracy: 0.8622 - val_loss: 0.3539 - val_accuracy: 0.9137\n",
            "Epoch 3/30\n",
            "246/246 [==============================] - 7s 29ms/step - loss: 0.2707 - accuracy: 0.9326 - val_loss: 0.2277 - val_accuracy: 0.9453\n",
            "Epoch 4/30\n",
            "246/246 [==============================] - 7s 29ms/step - loss: 0.1790 - accuracy: 0.9566 - val_loss: 0.1821 - val_accuracy: 0.9560\n",
            "Epoch 5/30\n",
            "246/246 [==============================] - 7s 29ms/step - loss: 0.1276 - accuracy: 0.9704 - val_loss: 0.1406 - val_accuracy: 0.9661\n",
            "Epoch 6/30\n",
            "246/246 [==============================] - 7s 29ms/step - loss: 0.0928 - accuracy: 0.9796 - val_loss: 0.1242 - val_accuracy: 0.9726\n",
            "Epoch 7/30\n",
            "246/246 [==============================] - 7s 27ms/step - loss: 0.0766 - accuracy: 0.9820 - val_loss: 0.1095 - val_accuracy: 0.9748\n",
            "Epoch 8/30\n",
            "246/246 [==============================] - 7s 29ms/step - loss: 0.0580 - accuracy: 0.9865 - val_loss: 0.0915 - val_accuracy: 0.9792\n",
            "Epoch 9/30\n",
            "246/246 [==============================] - 7s 30ms/step - loss: 0.0466 - accuracy: 0.9897 - val_loss: 0.0791 - val_accuracy: 0.9830\n",
            "Epoch 10/30\n",
            "246/246 [==============================] - 7s 30ms/step - loss: 0.0359 - accuracy: 0.9922 - val_loss: 0.0846 - val_accuracy: 0.9836\n",
            "Epoch 11/30\n",
            "246/246 [==============================] - 7s 28ms/step - loss: 0.0311 - accuracy: 0.9930 - val_loss: 0.0752 - val_accuracy: 0.9844\n",
            "Epoch 12/30\n",
            "246/246 [==============================] - 7s 29ms/step - loss: 0.0220 - accuracy: 0.9954 - val_loss: 0.0736 - val_accuracy: 0.9852\n",
            "Epoch 13/30\n",
            "246/246 [==============================] - 7s 30ms/step - loss: 0.0293 - accuracy: 0.9921 - val_loss: 0.0745 - val_accuracy: 0.9848\n",
            "Epoch 14/30\n",
            "246/246 [==============================] - 8s 31ms/step - loss: 0.0210 - accuracy: 0.9945 - val_loss: 0.0713 - val_accuracy: 0.9866\n",
            "Epoch 15/30\n",
            "246/246 [==============================] - 7s 29ms/step - loss: 0.0132 - accuracy: 0.9973 - val_loss: 0.0640 - val_accuracy: 0.9865\n",
            "Epoch 16/30\n",
            "246/246 [==============================] - 7s 29ms/step - loss: 0.0134 - accuracy: 0.9968 - val_loss: 0.0639 - val_accuracy: 0.9883\n",
            "Epoch 17/30\n",
            "246/246 [==============================] - 7s 29ms/step - loss: 0.0163 - accuracy: 0.9953 - val_loss: 0.0940 - val_accuracy: 0.9838\n",
            "Epoch 18/30\n",
            "246/246 [==============================] - 7s 30ms/step - loss: 0.0162 - accuracy: 0.9957 - val_loss: 0.0893 - val_accuracy: 0.9806\n",
            "Epoch 19/30\n",
            "246/246 [==============================] - 7s 29ms/step - loss: 0.0164 - accuracy: 0.9955 - val_loss: 0.0694 - val_accuracy: 0.9888\n",
            "Epoch 20/30\n",
            "246/246 [==============================] - 7s 30ms/step - loss: 0.0109 - accuracy: 0.9972 - val_loss: 0.0680 - val_accuracy: 0.9880\n",
            "Epoch 21/30\n",
            "246/246 [==============================] - 7s 30ms/step - loss: 0.0049 - accuracy: 0.9992 - val_loss: 0.0654 - val_accuracy: 0.9897\n",
            "Epoch 22/30\n",
            "246/246 [==============================] - 7s 30ms/step - loss: 0.0100 - accuracy: 0.9970 - val_loss: 0.0677 - val_accuracy: 0.9867\n",
            "Epoch 23/30\n",
            "246/246 [==============================] - 7s 28ms/step - loss: 0.0109 - accuracy: 0.9972 - val_loss: 0.0811 - val_accuracy: 0.9856\n",
            "Epoch 24/30\n",
            "246/246 [==============================] - 8s 32ms/step - loss: 0.0091 - accuracy: 0.9979 - val_loss: 0.0665 - val_accuracy: 0.9895\n",
            "Epoch 25/30\n",
            "246/246 [==============================] - 8s 32ms/step - loss: 0.0031 - accuracy: 0.9994 - val_loss: 0.0706 - val_accuracy: 0.9885\n",
            "Epoch 26/30\n",
            "246/246 [==============================] - 8s 31ms/step - loss: 0.0202 - accuracy: 0.9941 - val_loss: 0.0622 - val_accuracy: 0.9884\n",
            "Epoch 27/30\n",
            "246/246 [==============================] - 8s 33ms/step - loss: 0.0152 - accuracy: 0.9952 - val_loss: 0.0616 - val_accuracy: 0.9890\n",
            "Epoch 28/30\n",
            "246/246 [==============================] - 7s 30ms/step - loss: 0.0067 - accuracy: 0.9983 - val_loss: 0.0610 - val_accuracy: 0.9893\n",
            "Epoch 29/30\n",
            "246/246 [==============================] - 7s 30ms/step - loss: 0.0100 - accuracy: 0.9972 - val_loss: 0.0631 - val_accuracy: 0.9884\n",
            "Epoch 30/30\n",
            "246/246 [==============================] - 8s 32ms/step - loss: 0.0044 - accuracy: 0.9988 - val_loss: 0.0599 - val_accuracy: 0.9897\n"
          ]
        }
      ],
      "source": [
        "# Training the Model\n",
        "with tf.device('/GPU:0'):\n",
        "    epochs = 30\n",
        "    history1 = model.fit(X_train, y_train, batch_size=128, epochs=epochs, validation_data=(X_test, y_test))"
      ]
    },
    {
      "cell_type": "code",
      "execution_count": 9,
      "metadata": {
        "colab": {
          "base_uri": "https://localhost:8080/",
          "height": 927
        },
        "id": "WagCv5shd19x",
        "outputId": "5af2e503-a85d-44af-a58a-646ff46d4af4"
      },
      "outputs": [
        {
          "data": {
            "text/plain": [
              "<Figure size 640x480 with 0 Axes>"
            ]
          },
          "metadata": {},
          "output_type": "display_data"
        },
        {
          "data": {
            "image/png": "[encoded data removed]",
            "text/plain": [
              "<Figure size 640x480 with 1 Axes>"
            ]
          },
          "metadata": {},
          "output_type": "display_data"
        },
        {
          "data": {
            "image/png": "[encoded data removed]",
            "text/plain": [
              "<Figure size 640x480 with 1 Axes>"
            ]
          },
          "metadata": {},
          "output_type": "display_data"
        }
      ],
      "source": [
        "model.save('traffic_classifier.keras')\n",
        "\n",
        "plt.figure()\n",
        "plt.plot(history1.history['accuracy'], label='train', color='blue')\n",
        "plt.plot(history1.history['val_accuracy'], label='validation', color='orange')\n",
        "plt.title('Accuracy')\n",
        "plt.xlabel('Epoch')\n",
        "plt.ylabel('Accuracy')\n",
        "plt.legend()\n",
        "plt.show()\n",
        "\n",
        "plt.figure()\n",
        "plt.plot(history1.history['loss'], label='train', color='blue')\n",
        "plt.plot(history1.history['val_loss'], label='validation', color='orange')\n",
        "plt.title('Loss')\n",
        "plt.xlabel('Epoch')\n",
        "plt.ylabel('Loss')\n",
        "plt.legend()\n",
        "plt.show()"
      ]
    },
    {
      "cell_type": "code",
      "execution_count": 10,
      "metadata": {
        "id": "IQM2HDzDd19z"
      },
      "outputs": [],
      "source": [
        "##This Block Not Mine, Took this Code Block from Kaggle for Using Dataset##\n",
        "from sklearn.metrics import accuracy_score\n",
        "\n",
        "# Importing the test dataset\n",
        "y_test = pd.read_csv(r'D:\\Soumil479\\DNNs_On_FPGA\\software_lenet\\1\\Test.csv')\n",
        "\n",
        "labels = y_test[\"ClassId\"].values\n",
        "imgs = y_test[\"Path\"].values\n",
        "\n",
        "data=[]\n",
        "\n",
        "# Retreiving the images\n",
        "with tf.device('/GPU:0'):\n",
        "    for img in imgs:\n",
        "        image = Image.open(r'D:/Soumil479/DNNs_On_FPGA/software_lenet/1/'+img)\n",
        "        image = image.resize([32, 32])\n",
        "        data.append(np.array(image))\n",
        "\n",
        "X_test=np.array(data)"
      ]
    },
    {
      "cell_type": "code",
      "execution_count": 11,
      "metadata": {
        "colab": {
          "base_uri": "https://localhost:8080/"
        },
        "id": "UG0nsSi5d191",
        "outputId": "87cfc672-2b23-427d-eb87-55f3051ee4ad"
      },
      "outputs": [
        {
          "name": "stdout",
          "output_type": "stream",
          "text": [
            "99/99 [==============================] - 1s 8ms/step\n",
            "Accuracy: 0.9202\n",
            "Total inference time for 12630 images: 1.14 seconds\n",
            "Average inference time per image: 0.0905 ms\n"
          ]
        }
      ],
      "source": [
        "with tf.device('/GPU:0'):\n",
        "    t0 = time.time()\n",
        "    preds = np.argmax(model.predict(X_test, batch_size=128, verbose=1), axis=-1)\n",
        "    t1 = time.time()\n",
        "\n",
        "acc = accuracy_score(labels, preds)\n",
        "print(f\"Accuracy: {acc:.4f}\")\n",
        "\n",
        "total_time = t1 - t0\n",
        "num_images = X_test.shape[0]\n",
        "avg_time_per_image = (total_time / num_images) * 1000\n",
        "\n",
        "print(f\"Total inference time for {num_images} images: {total_time:.2f} seconds\")\n",
        "print(f\"Average inference time per image: {avg_time_per_image:.4f} ms\")"
      ]
    },
    {
      "cell_type": "code",
      "execution_count": 12,
      "metadata": {
        "colab": {
          "base_uri": "https://localhost:8080/"
        },
        "id": "Oaq2_zH5m1ft",
        "outputId": "df138542-22a9-4dd2-e0cb-e5335785b94b"
      },
      "outputs": [
        {
          "name": "stderr",
          "output_type": "stream",
          "text": [
            "100%|██████████| 99/99 [00:12<00:00,  7.68it/s]"
          ]
        },
        {
          "name": "stdout",
          "output_type": "stream",
          "text": [
            "\n",
            "Total inference time for 12630 images: 12.89 seconds\n",
            "Average inference time per image: 1.0205 ms\n"
          ]
        },
        {
          "name": "stderr",
          "output_type": "stream",
          "text": [
            "\n"
          ]
        }
      ],
      "source": [
        "from tqdm import tqdm\n",
        "num_images = len(X_test)\n",
        "batch_size = 128\n",
        "batch_times = []\n",
        "\n",
        "total_start_time = time.time()\n",
        "\n",
        "# Predict on test set in batches with timing and tqdm\n",
        "predictions = []\n",
        "for i in tqdm(range(0, num_images, batch_size)):\n",
        "    batch = X_test[i:i+batch_size]\n",
        "    batch_start_time = time.time()\n",
        "    batch_preds = model.predict(batch, verbose=0)\n",
        "    batch_end_time = time.time()\n",
        "    batch_times.append(batch_end_time - batch_start_time)\n",
        "    predictions.append(batch_preds)\n",
        "\n",
        "total_end_time = time.time()\n",
        "\n",
        "predictions = np.concatenate(predictions, axis=0)\n",
        "\n",
        "# Total and average inference time\n",
        "total_time = total_end_time - total_start_time\n",
        "avg_time_per_image = (total_time / num_images) * 1000\n",
        "print(f\"\\nTotal inference time for {num_images} images: {total_time:.2f} seconds\")\n",
        "print(f\"Average inference time per image: {avg_time_per_image:.4f} ms\")\n"
      ]
    },
    {
      "cell_type": "code",
      "execution_count": 13,
      "metadata": {},
      "outputs": [
        {
          "name": "stdout",
          "output_type": "stream",
          "text": [
            "✓ conv2d_layer1_weights.cpp regenerated without ellipsis or syntax errors.\n"
          ]
        }
      ],
      "source": [
        "import numpy as np\n",
        "\n",
        "# ------------ helper: 4‑level brace block for 32×3×5×5 ------------\n",
        "def conv4d_to_c(arr, indent=\"  \"):\n",
        "    O, I, _, _ = arr.shape          # 32, 3, 5, 5\n",
        "    lines = [\"{\"]                   # outermost brace\n",
        "    for o in range(O):\n",
        "        lines.append(f\"{indent}{{\")            # kernel o\n",
        "        for i in range(I):\n",
        "            lines.append(f\"{indent*2}{{\")      # channel i\n",
        "            for r in range(5):\n",
        "                row = \", \".join(f\"{v:.8e}f\" for v in arr[o, i, r])\n",
        "                lines.append(f\"{indent*3}{{ {row} }},\")\n",
        "            lines.append(f\"{indent*2}}},\")\n",
        "        lines.append(f\"{indent}}},\")\n",
        "    lines.append(\"};\")\n",
        "    return \"\\n\".join(lines)\n",
        "\n",
        "# ------------ pull weights from Keras -----------------------------\n",
        "k1, b1 = model.get_layer(\"CONV1\").get_weights()   # (5,5,3,32)\n",
        "k1 = k1.transpose(3, 2, 0, 1).astype(np.float32)  # → 32×3×5×5\n",
        "\n",
        "with open(\"conv2d_layer1_weights.cpp\", \"w\") as f:\n",
        "    f.write('#include \"conv2d_layer1.h\"\\n\\n')\n",
        "\n",
        "    f.write(\"const float CONV1_W[OUT_CH][IN_CH][K][K] = \\n\")\n",
        "    f.write(conv4d_to_c(k1) + \"\\n\\n\")\n",
        "\n",
        "    bias = \", \".join(f\"{v:.8e}f\" for v in b1)\n",
        "    f.write(f\"const float CONV1_B[OUT_CH] = {{ {bias} }};\\n\")\n",
        "\n",
        "print(\"✓ conv2d_layer1_weights.cpp regenerated without ellipsis \"\n",
        "      \"or syntax errors.\")\n"
      ]
    },
    {
      "cell_type": "code",
      "execution_count": 14,
      "metadata": {},
      "outputs": [
        {
          "name": "stdout",
          "output_type": "stream",
          "text": [
            "✓ conv2d_layer2_weights.cpp regenerated with proper 4‑D braces\n"
          ]
        }
      ],
      "source": [
        "import numpy as np\n",
        "\n",
        "# ---------- pull weights from your Keras model ----------\n",
        "k2, b2 = model.get_layer(\"CONV2\").get_weights()   # (5,5,32,32)\n",
        "k2 = k2.transpose(3, 2, 0, 1).astype(np.float32)  # → 32×32×5×5\n",
        "\n",
        "# ---------- helper that guarantees 4 brace levels --------\n",
        "def conv2_to_c(arr, indent=\"  \"):                 # shape O×I×5×5\n",
        "    O, I, _, _ = arr.shape\n",
        "    text = [\"{\"]\n",
        "    for o in range(O):\n",
        "        text.append(f\"{indent}{{\")                # kernel level\n",
        "        for i in range(I):\n",
        "            text.append(f\"{indent*2}{{\")          # channel level\n",
        "            for r in range(5):\n",
        "                row = \", \".join(f\"{v:.8e}f\" for v in arr[o, i, r])\n",
        "                text.append(f\"{indent*3}{{ {row} }},\")\n",
        "            text.append(f\"{indent*2}}},\")\n",
        "        text.append(f\"{indent}}},\")\n",
        "    text.append(\"};\")\n",
        "    return \"\\n\".join(text)\n",
        "\n",
        "# ---------- write the C++ definition file ---------------\n",
        "with open(\"conv2d_layer2_weights.cpp\", \"w\") as f:\n",
        "    f.write('#include \"conv2d_layer2.h\"\\n\\n')\n",
        "    f.write(\"const float CONV2_W[OUT_CH_C2][IN_CH_C2][K_C2][K_C2] =\\n\")\n",
        "    f.write(conv2_to_c(k2) + \"\\n\\n\")\n",
        "    bias = \", \".join(f\"{v:.8e}f\" for v in b2)\n",
        "    f.write(f\"const float CONV2_B[OUT_CH_C2] = {{ {bias} }};\\n\")\n",
        "\n",
        "print(\"✓ conv2d_layer2_weights.cpp regenerated with proper 4‑D braces\")\n"
      ]
    },
    {
      "cell_type": "code",
      "execution_count": 15,
      "metadata": {},
      "outputs": [
        {
          "name": "stdout",
          "output_type": "stream",
          "text": [
            "✓ dense_layer1_weights.cpp and dense_layer2_weights.cpp written\n"
          ]
        }
      ],
      "source": [
        "import numpy as np\n",
        "\n",
        "# ---------- helper : 2‑D array to C braces -----------------\n",
        "def mat_to_c(mat, indent=\"  \"):          # mat : [OUT][IN]\n",
        "    lines = [\"{\"]                        # outer brace\n",
        "    for row in mat:\n",
        "        body = \", \".join(f\"{v:.8e}f\" for v in row)\n",
        "        lines.append(f\"{indent}{{ {body} }},\")\n",
        "    lines.append(\"};\")\n",
        "    return \"\\n\".join(lines)\n",
        "\n",
        "# ---------- Dense‑1   (800 → 64, ReLU) ----------------------\n",
        "w1, b1 = model.get_layer(\"FULLY1\").get_weights()   # (800,64)\n",
        "w1 = w1.T.astype(np.float32)                       # [64][800]\n",
        "\n",
        "with open(\"dense_layer1_weights.cpp\", \"w\") as f:\n",
        "    f.write('#include \"dense_layer1.h\"\\n\\n')\n",
        "    f.write(\"static const float D1_W[OUT_D1][IN_D1] =\\n\")\n",
        "    f.write(mat_to_c(w1) + \"\\n\\n\")\n",
        "    bias = \", \".join(f\"{v:.8e}f\" for v in b1)\n",
        "    f.write(f\"static const float D1_B[OUT_D1] = {{ {bias} }};\\n\")\n",
        "\n",
        "# ---------- Dense‑2   (64 → 43, logits) ---------------------\n",
        "w2, b2 = model.get_layer(\"FULLY2\").get_weights()   # (64,43)\n",
        "w2 = w2.T.astype(np.float32)                       # [43][64]\n",
        "\n",
        "with open(\"dense_layer2_weights.cpp\", \"w\") as f:\n",
        "    f.write('#include \"dense_layer2.h\"\\n\\n')\n",
        "    f.write(\"static const float D2_W[OUT_D2][IN_D2] =\\n\")\n",
        "    f.write(mat_to_c(w2) + \"\\n\\n\")\n",
        "    bias = \", \".join(f\"{v:.8e}f\" for v in b2)\n",
        "    f.write(f\"static const float D2_B[OUT_D2] = {{ {bias} }};\\n\")\n",
        "\n",
        "print(\"✓ dense_layer1_weights.cpp and dense_layer2_weights.cpp written\")\n"
      ]
    },
    {
      "cell_type": "code",
      "execution_count": 23,
      "metadata": {},
      "outputs": [
        {
          "name": "stdout",
          "output_type": "stream",
          "text": [
            "✓ 4 weight files regenerated without ellipsis.\n"
          ]
        }
      ],
      "source": [
        "import numpy as np\n",
        "\n",
        "# ---------------------------------------------------------------\n",
        "# NEW helper – no truncation, long single lines are OK for the C\n",
        "# ---------------------------------------------------------------\n",
        "def to_c_array(arr, indent=\"  \"):\n",
        "    \"\"\"\n",
        "    Return a string like \"{ {1.0f, 2.0f}, {3.0f, 4.0f} }\" for any\n",
        "    ndarray 'arr', with NO '...' ellipsis, formatted for C.\n",
        "    \"\"\"\n",
        "    # force full printout\n",
        "    flat_str = np.array2string(arr.flatten(),\n",
        "                               separator=', ',\n",
        "                               max_line_width=1000000,   # big\n",
        "                               threshold=arr.size,       # never truncate\n",
        "                               formatter={'float_kind':lambda x:f\"{x:.8e}f\"})\n",
        "    # wrap the 1‑D string back into original shape’s braces\n",
        "    # '['  → '{',   ']' → '}'\n",
        "    flat_str = flat_str.replace('[', '{').replace(']', '}')\n",
        "    # reshape braces according to ndarray shape\n",
        "    def nest(s, shape):\n",
        "        if len(shape) == 1:\n",
        "            return s\n",
        "        step = int(np.prod(shape[1:]))\n",
        "        chunks = [nest(\", \".join(s.split(\", \")[i*step:(i+1)*step]), shape[1:])\n",
        "                  for i in range(shape[0])]\n",
        "        inner = \",\\n\".join(chunks)\n",
        "        return \"{\\n\" + indent + inner.replace(\"\\n\", \"\\n\"+indent) + \"\\n}\"\n",
        "    return nest(flat_str, arr.shape)\n",
        "\n",
        "# ------------------------------------------------------------------\n",
        "# 1.  CONV1\n",
        "# ------------------------------------------------------------------\n",
        "k1,b1 = model.get_layer(\"CONV1\").get_weights()      # (5,5,3,32)\n",
        "k1 = k1.transpose(3,2,0,1)                          # [32][3][5][5]\n",
        "\n",
        "with open(\"conv2d_layer1_weights.cpp\", \"w\") as f:\n",
        "    f.write('#include \"conv2d_layer1.h\"\\n\\n')\n",
        "    f.write(\"static const float CONV1_W[OUT_CH][IN_CH][K][K] = \")\n",
        "    f.write(to_c_array(k1) + \";\\n\\n\")\n",
        "    f.write(\"static const float CONV1_B[OUT_CH] = \")\n",
        "    f.write(to_c_array(b1) + \";\\n\")\n",
        "\n",
        "# ------------------------------------------------------------------\n",
        "# 2.  CONV2\n",
        "# ------------------------------------------------------------------\n",
        "k2,b2 = model.get_layer(\"CONV2\").get_weights()      # (5,5,32,32)\n",
        "k2 = k2.transpose(3,2,0,1)                          # [32][32][5][5]\n",
        "\n",
        "with open(\"conv2d_layer2_weights.cpp\", \"w\") as f:\n",
        "    f.write('#include \"conv2d_layer2.h\"\\n\\n')\n",
        "    f.write(\"static const float CONV2_W[OUT_CH_C2][IN_CH_C2][K_C2][K_C2] = \")\n",
        "    f.write(to_c_array(k2) + \";\\n\\n\")\n",
        "    f.write(\"static const float CONV2_B[OUT_CH_C2] = \")\n",
        "    f.write(to_c_array(b2) + \";\\n\")\n",
        "\n",
        "# ------------------------------------------------------------------\n",
        "# 3.  Dense‑1\n",
        "# ------------------------------------------------------------------\n",
        "w1,b1d = model.get_layer(\"FULLY1\").get_weights()    # (800,64)\n",
        "w1 = w1.T                                           # [64][800]\n",
        "\n",
        "with open(\"dense_layer1_weights.cpp\", \"w\") as f:\n",
        "    f.write('#include \"dense_layer1.h\"\\n\\n')\n",
        "    f.write(\"static const float D1_W[OUT_D1][IN_D1] = \")\n",
        "    f.write(to_c_array(w1) + \";\\n\\n\")\n",
        "    f.write(\"static const float D1_B[OUT_D1] = \")\n",
        "    f.write(to_c_array(b1d) + \";\\n\")\n",
        "\n",
        "# ------------------------------------------------------------------\n",
        "# 4.  Dense‑2\n",
        "# ------------------------------------------------------------------\n",
        "w2,b2d = model.get_layer(\"FULLY2\").get_weights()    # (64,43)\n",
        "w2 = w2.T                                           # [43][64]\n",
        "\n",
        "with open(\"dense_layer2_weights.cpp\", \"w\") as f:\n",
        "    f.write('#include \"dense_layer2.h\"\\n\\n')\n",
        "    f.write(\"static const float D2_W[OUT_D2][IN_D2] = \")\n",
        "    f.write(to_c_array(w2) + \";\\n\\n\")\n",
        "    f.write(\"static const float D2_B[OUT_D2] = \")\n",
        "    f.write(to_c_array(b2d) + \";\\n\")\n",
        "\n",
        "print(\"✓ 4 weight files regenerated without ellipsis.\")\n"
      ]
    },
    {
      "cell_type": "code",
      "execution_count": 27,
      "metadata": {},
      "outputs": [
        {
          "name": "stdout",
          "output_type": "stream",
          "text": [
            "cwd  : D:\\Soumil479\\DNNs_On_FPGA\\software_lenet\n"
          ]
        },
        {
          "ename": "FileNotFoundError",
          "evalue": "cv2.imread failed for 'D:\\Soumil479\\DNNs_On_FPGA\\software_lenet\u0001\\Train\u0000\u000000_00000_00000.png'",
          "output_type": "error",
          "traceback": [
            "\u001b[1;31m---------------------------------------------------------------------------\u001b[0m",
            "\u001b[1;31mFileNotFoundError\u001b[0m                         Traceback (most recent call last)",
            "Cell \u001b[1;32mIn[27], line 8\u001b[0m\n\u001b[0;32m      6\u001b[0m img \u001b[38;5;241m=\u001b[39m cv2\u001b[38;5;241m.\u001b[39mimread(img_path)\n\u001b[0;32m      7\u001b[0m \u001b[38;5;28;01mif\u001b[39;00m img \u001b[38;5;129;01mis\u001b[39;00m \u001b[38;5;28;01mNone\u001b[39;00m:\n\u001b[1;32m----> 8\u001b[0m     \u001b[38;5;28;01mraise\u001b[39;00m \u001b[38;5;167;01mFileNotFoundError\u001b[39;00m(\u001b[38;5;124mf\u001b[39m\u001b[38;5;124m\"\u001b[39m\u001b[38;5;124mcv2.imread failed for \u001b[39m\u001b[38;5;124m'\u001b[39m\u001b[38;5;132;01m{\u001b[39;00mimg_path\u001b[38;5;132;01m}\u001b[39;00m\u001b[38;5;124m'\u001b[39m\u001b[38;5;124m\"\u001b[39m)\n\u001b[0;32m     10\u001b[0m img \u001b[38;5;241m=\u001b[39m cv2\u001b[38;5;241m.\u001b[39mresize(img, (\u001b[38;5;241m32\u001b[39m, \u001b[38;5;241m32\u001b[39m))\n\u001b[0;32m     11\u001b[0m \u001b[38;5;28mprint\u001b[39m(\u001b[38;5;124m\"\u001b[39m\u001b[38;5;124mLoaded image shape:\u001b[39m\u001b[38;5;124m\"\u001b[39m, img\u001b[38;5;241m.\u001b[39mshape)\n",
            "\u001b[1;31mFileNotFoundError\u001b[0m: cv2.imread failed for 'D:\\Soumil479\\DNNs_On_FPGA\\software_lenet\u0001\\Train\u0000\u000000_00000_00000.png'"
          ]
        }
      ],
      "source": [
        "import cv2, pathlib, os\n",
        "\n",
        "img_path = \"D:\\Soumil479\\DNNs_On_FPGA\\software_lenet\\1\\Train\\0\\00000_00000_00000.png\"              # <- your filename here\n",
        "print(\"cwd  :\", pathlib.Path().resolve())\n",
        "\n",
        "img = cv2.imread(img_path)\n",
        "if img is None:\n",
        "    raise FileNotFoundError(f\"cv2.imread failed for '{img_path}'\")\n",
        "\n",
        "img = cv2.resize(img, (32, 32))\n",
        "print(\"Loaded image shape:\", img.shape)\n"
      ]
    },
    {
      "cell_type": "code",
      "execution_count": null,
      "metadata": {
        "id": "1yT__R-Cd192"
      },
      "outputs": [],
      "source": [
        "model.save('traffic_classifier.keras')\n",
        "weights = model.get_weights()\n",
        "weights = model.get_weights()\n",
        "np.savez('binaryweights_trained.npz', *weights)"
      ]
    }
  ],
  "metadata": {
    "accelerator": "GPU",
    "colab": {
      "gpuType": "T4",
      "provenance": []
    },
    "kaggle": {
      "accelerator": "none",
      "dataSources": [
        {
          "datasetId": 82373,
          "sourceId": 191501,
          "sourceType": "datasetVersion"
        }
      ],
      "dockerImageVersionId": 30191,
      "isGpuEnabled": false,
      "isInternetEnabled": true,
      "language": "python",
      "sourceType": "notebook"
    },
    "kernelspec": {
      "display_name": "SG2",
      "language": "python",
      "name": "python3"
    },
    "language_info": {
      "codemirror_mode": {
        "name": "ipython",
        "version": 3
      },
      "file_extension": ".py",
      "mimetype": "text/x-python",
      "name": "python",
      "nbconvert_exporter": "python",
      "pygments_lexer": "ipython3",
      "version": "3.10.13"
    }
  },
  "nbformat": 4,
  "nbformat_minor": 0
}
