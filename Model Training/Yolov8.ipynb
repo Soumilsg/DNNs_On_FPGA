{
  "cells": [
    {
      "cell_type": "code",
      "execution_count": null,
      "metadata": {
        "colab": {
          "base_uri": "https://localhost:8080/"
        },
        "id": "KI44C3CFd19C",
        "outputId": "738d9042-f5ff-42c0-d7cb-3b9d61184c33"
      },
      "outputs": [],
      "source": [
        "gtsrb_path = kagglehub.dataset_download('meowmeowmeowmeowmeow/gtsrb-german-traffic-sign')\n",
        "print(gtsrb_path)"
      ]
    },
    {
      "cell_type": "code",
      "execution_count": null,
      "metadata": {
        "colab": {
          "base_uri": "https://localhost:8080/"
        },
        "id": "TprslHZJd19Z",
        "outputId": "29a25cf8-6399-46ba-8a60-2b47d19de45c"
      },
      "outputs": [],
      "source": [
        "import numpy as np\n",
        "import pandas as pd\n",
        "import tensorflow as tf\n",
        "import os\n",
        "from sklearn.model_selection import train_test_split\n",
        "from tensorflow.keras.utils import to_categorical\n",
        "from tensorflow.keras.models import Sequential, load_model\n",
        "from sklearn.metrics import accuracy_score\n",
        "from tensorflow import keras\n",
        "from keras import layers\n",
        "import cv2\n",
        "from PIL import Image\n",
        "import matplotlib.pyplot as plt\n",
        "import time\n",
        "import datetime\n",
        "from tqdm import tqdm\n",
        "\n",
        "from ultralytics import YOLO"
      ]
    },
    {
      "cell_type": "code",
      "execution_count": null,
      "metadata": {
        "colab": {
          "base_uri": "https://localhost:8080/"
        },
        "id": "qOJW8An4d19s",
        "outputId": "60de7598-3f4d-443b-8024-18a2302af3f8"
      },
      "outputs": [],
      "source": [
        "model = YOLO('yolov8n-cls.pt')"
      ]
    },
    {
      "cell_type": "code",
      "execution_count": null,
      "metadata": {
        "colab": {
          "base_uri": "https://localhost:8080/",
          "height": 567
        },
        "id": "RPvr14JH-Jbu",
        "outputId": "29c94608-0d75-41c2-b248-b695e992b450"
      },
      "outputs": [],
      "source": [
        "model.train(\n",
        "    data='/content/gtsrb-german-traffic-sign/', \n",
        "    imgsz=32,\n",
        "    batch=128,\n",
        "    epochs=66,\n",
        "    mixup=0.2,\n",
        "    cutmix=0.2,\n",
        "    device=0\n",
        ")"
      ]
    },
    {
      "cell_type": "code",
      "execution_count": null,
      "metadata": {
        "colab": {
          "base_uri": "https://localhost:8080/"
        },
        "id": "R5cfh3ftd19v",
        "outputId": "8c07c86a-c12a-41ec-8a42-7bc449b4ab17"
      },
      "outputs": [],
      "source": [
        "model = YOLO('runs/classify/train22/weights/best.pt')\n",
        "\n",
        "########This Code Section Not Mine, Took this Code Block from Kaggle for Using Testing Dataset Properly########\n",
        "y_test = pd.read_csv('../kaggle/input/gtsrb-german-traffic-sign/Test.csv')\n",
        "\n",
        "labels = y_test[\"ClassId\"].values\n",
        "imgs = y_test[\"Path\"].values\n",
        "\n",
        "data=[]\n",
        "\n",
        "with tf.device('/GPU:0'):\n",
        "    for img in imgs:\n",
        "        image = Image.open('../kaggle/input/gtsrb-german-traffic-sign/'+img)\n",
        "        image = image.resize([32, 32])\n",
        "        data.append(np.array(image))\n",
        "\n",
        "X_test=np.array(data)\n",
        "\n",
        "with tf.device('/GPU:0'):\n",
        "    t0 = time.time()\n",
        "    preds = np.argmax(model.predict(X_test, batch_size=128, verbose=1), axis=-1)\n",
        "    t1 = time.time()\n",
        "\n",
        "acc = accuracy_score(labels, preds)\n",
        "print(f\"Accuracy: {acc:.4f}\")\n",
        "\n",
        "total_time = t1 - t0\n",
        "num_images = X_test.shape[0]\n",
        "avg_time_per_image = (total_time / num_images) * 1000\n",
        "\n",
        "print(f\"Total inference time for {num_images} images: {total_time:.2f} seconds\")\n",
        "print(f\"Average inference time per image: {avg_time_per_image:.4f} ms\")\n",
        "\n",
        "########################################################################################"
      ]
    }
  ],
  "metadata": {
    "accelerator": "GPU",
    "colab": {
      "gpuType": "T4",
      "provenance": []
    },
    "kaggle": {
      "accelerator": "none",
      "dataSources": [
        {
          "datasetId": 82373,
          "sourceId": 191501,
          "sourceType": "datasetVersion"
        }
      ],
      "dockerImageVersionId": 30191,
      "isGpuEnabled": false,
      "isInternetEnabled": true,
      "language": "python",
      "sourceType": "notebook"
    },
    "kernelspec": {
      "display_name": "Python 3",
      "name": "python3"
    },
    "language_info": {
      "codemirror_mode": {
        "name": "ipython",
        "version": 3
      },
      "file_extension": ".py",
      "mimetype": "text/x-python",
      "name": "python",
      "nbconvert_exporter": "python",
      "pygments_lexer": "ipython3",
      "version": "3.7.12"
    }
  },
  "nbformat": 4,
  "nbformat_minor": 0
}
